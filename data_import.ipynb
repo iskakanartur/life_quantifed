{
 "cells": [
  {
   "cell_type": "markdown",
   "metadata": {},
   "source": [
    "### Fasting time & Weight: Personal records from August 2019"
   ]
  },
  {
   "cell_type": "code",
   "execution_count": 2,
   "metadata": {},
   "outputs": [],
   "source": [
    "import pandas as pd\n",
    "from sqlalchemy import create_engine\n",
    "import numpy as np\n",
    "\n",
    "# Load your CSV data into a Pandas DataFrame\n",
    "df = pd.read_csv('/home/turo/Downloads/data.csv', names=['time_delta', 'date_added', 'weight'])"
   ]
  },
  {
   "cell_type": "code",
   "execution_count": 538,
   "metadata": {},
   "outputs": [
    {
     "data": {
      "text/html": [
       "<div>\n",
       "<style scoped>\n",
       "    .dataframe tbody tr th:only-of-type {\n",
       "        vertical-align: middle;\n",
       "    }\n",
       "\n",
       "    .dataframe tbody tr th {\n",
       "        vertical-align: top;\n",
       "    }\n",
       "\n",
       "    .dataframe thead th {\n",
       "        text-align: right;\n",
       "    }\n",
       "</style>\n",
       "<table border=\"1\" class=\"dataframe\">\n",
       "  <thead>\n",
       "    <tr style=\"text-align: right;\">\n",
       "      <th></th>\n",
       "      <th>time_delta</th>\n",
       "      <th>date_added</th>\n",
       "      <th>weight</th>\n",
       "    </tr>\n",
       "  </thead>\n",
       "  <tbody>\n",
       "    <tr>\n",
       "      <th>1513</th>\n",
       "      <td>NaN</td>\n",
       "      <td>NaN</td>\n",
       "      <td>NaN</td>\n",
       "    </tr>\n",
       "    <tr>\n",
       "      <th>1514</th>\n",
       "      <td>NaN</td>\n",
       "      <td>10/20/2023</td>\n",
       "      <td>78.50</td>\n",
       "    </tr>\n",
       "    <tr>\n",
       "      <th>1515</th>\n",
       "      <td>NaN</td>\n",
       "      <td>NaN</td>\n",
       "      <td>NaN</td>\n",
       "    </tr>\n",
       "    <tr>\n",
       "      <th>1516</th>\n",
       "      <td>NaN</td>\n",
       "      <td>10/25/2023</td>\n",
       "      <td>78.85</td>\n",
       "    </tr>\n",
       "    <tr>\n",
       "      <th>1517</th>\n",
       "      <td>NaN</td>\n",
       "      <td>10/31/2023</td>\n",
       "      <td>79.80</td>\n",
       "    </tr>\n",
       "  </tbody>\n",
       "</table>\n",
       "</div>"
      ],
      "text/plain": [
       "     time_delta  date_added  weight\n",
       "1513        NaN         NaN     NaN\n",
       "1514        NaN  10/20/2023   78.50\n",
       "1515        NaN         NaN     NaN\n",
       "1516        NaN  10/25/2023   78.85\n",
       "1517        NaN  10/31/2023   79.80"
      ]
     },
     "execution_count": 538,
     "metadata": {},
     "output_type": "execute_result"
    }
   ],
   "source": [
    "df.tail()"
   ]
  },
  {
   "cell_type": "markdown",
   "metadata": {},
   "source": [
    "### Handling & Conversion [time_delta] column"
   ]
  },
  {
   "cell_type": "code",
   "execution_count": 539,
   "metadata": {},
   "outputs": [
    {
     "data": {
      "text/html": [
       "<div>\n",
       "<style scoped>\n",
       "    .dataframe tbody tr th:only-of-type {\n",
       "        vertical-align: middle;\n",
       "    }\n",
       "\n",
       "    .dataframe tbody tr th {\n",
       "        vertical-align: top;\n",
       "    }\n",
       "\n",
       "    .dataframe thead th {\n",
       "        text-align: right;\n",
       "    }\n",
       "</style>\n",
       "<table border=\"1\" class=\"dataframe\">\n",
       "  <thead>\n",
       "    <tr style=\"text-align: right;\">\n",
       "      <th></th>\n",
       "      <th>time_delta</th>\n",
       "      <th>date_added</th>\n",
       "      <th>weight</th>\n",
       "    </tr>\n",
       "  </thead>\n",
       "  <tbody>\n",
       "    <tr>\n",
       "      <th>0</th>\n",
       "      <td>NaN</td>\n",
       "      <td>7/30/2019 20:25:00</td>\n",
       "      <td>77.0</td>\n",
       "    </tr>\n",
       "    <tr>\n",
       "      <th>1</th>\n",
       "      <td>NaN</td>\n",
       "      <td>7/30/2019 20:25:00</td>\n",
       "      <td>NaN</td>\n",
       "    </tr>\n",
       "    <tr>\n",
       "      <th>2</th>\n",
       "      <td>24:35:00</td>\n",
       "      <td>NaN</td>\n",
       "      <td>NaN</td>\n",
       "    </tr>\n",
       "    <tr>\n",
       "      <th>3</th>\n",
       "      <td>NaN</td>\n",
       "      <td>NaN</td>\n",
       "      <td>NaN</td>\n",
       "    </tr>\n",
       "  </tbody>\n",
       "</table>\n",
       "</div>"
      ],
      "text/plain": [
       "  time_delta          date_added  weight\n",
       "0        NaN  7/30/2019 20:25:00    77.0\n",
       "1        NaN  7/30/2019 20:25:00     NaN\n",
       "2   24:35:00                 NaN     NaN\n",
       "3        NaN                 NaN     NaN"
      ]
     },
     "execution_count": 539,
     "metadata": {},
     "output_type": "execute_result"
    }
   ],
   "source": [
    "# Get rid of this 12/30/1899 15:25:00\t\n",
    "df = df.drop(index=1)\n",
    "df = df.reset_index(drop=True)\n",
    "df.head(4)"
   ]
  },
  {
   "cell_type": "code",
   "execution_count": 540,
   "metadata": {},
   "outputs": [
    {
     "name": "stdout",
     "output_type": "stream",
     "text": [
      "     time_delta          date_added  weight\n",
      "1232    #ERROR!  11/21/2022 8:40 PM     NaN\n",
      "1237    #VALUE!  11/26/2022 7:17 PM     NaN\n",
      "********************************\n",
      "Empty DataFrame\n",
      "Columns: [time_delta, date_added, weight]\n",
      "Index: []\n"
     ]
    }
   ],
   "source": [
    "#### some error values from google sheets\n",
    "print (df[(df['time_delta'] == '#VALUE!') | (df['time_delta'] == '#ERROR!')] )\n",
    "\n",
    "#### remove those \n",
    "df = df[~df['time_delta'].isin(['#ERROR!', '#VALUE!'])]\n",
    "\n",
    "print ('********************************')\n",
    "\n",
    "print (df[(df['time_delta'] == '#VALUE!') | (df['time_delta'] == '#ERROR!')] )\n"
   ]
  },
  {
   "cell_type": "code",
   "execution_count": 541,
   "metadata": {},
   "outputs": [
    {
     "name": "stdout",
     "output_type": "stream",
     "text": [
      "Count of '24:00:00' entries in time_delta column: 338\n",
      "********************************\n"
     ]
    },
    {
     "data": {
      "text/html": [
       "<div>\n",
       "<style scoped>\n",
       "    .dataframe tbody tr th:only-of-type {\n",
       "        vertical-align: middle;\n",
       "    }\n",
       "\n",
       "    .dataframe tbody tr th {\n",
       "        vertical-align: top;\n",
       "    }\n",
       "\n",
       "    .dataframe thead th {\n",
       "        text-align: right;\n",
       "    }\n",
       "</style>\n",
       "<table border=\"1\" class=\"dataframe\">\n",
       "  <thead>\n",
       "    <tr style=\"text-align: right;\">\n",
       "      <th></th>\n",
       "      <th>time_delta</th>\n",
       "      <th>date_added</th>\n",
       "      <th>weight</th>\n",
       "    </tr>\n",
       "  </thead>\n",
       "  <tbody>\n",
       "    <tr>\n",
       "      <th>8</th>\n",
       "      <td>24:00:00</td>\n",
       "      <td>NaN</td>\n",
       "      <td>NaN</td>\n",
       "    </tr>\n",
       "    <tr>\n",
       "      <th>24</th>\n",
       "      <td>24:00:00</td>\n",
       "      <td>8/22/2019</td>\n",
       "      <td>NaN</td>\n",
       "    </tr>\n",
       "    <tr>\n",
       "      <th>25</th>\n",
       "      <td>24:00:00</td>\n",
       "      <td>8/23/2019 17:00</td>\n",
       "      <td>NaN</td>\n",
       "    </tr>\n",
       "    <tr>\n",
       "      <th>31</th>\n",
       "      <td>24:00:00</td>\n",
       "      <td>8/29/2019 11:58 PM</td>\n",
       "      <td>NaN</td>\n",
       "    </tr>\n",
       "    <tr>\n",
       "      <th>33</th>\n",
       "      <td>24:00:00</td>\n",
       "      <td>8/31/2019 4:20 PM</td>\n",
       "      <td>NaN</td>\n",
       "    </tr>\n",
       "    <tr>\n",
       "      <th>...</th>\n",
       "      <td>...</td>\n",
       "      <td>...</td>\n",
       "      <td>...</td>\n",
       "    </tr>\n",
       "    <tr>\n",
       "      <th>1506</th>\n",
       "      <td>24:00:00</td>\n",
       "      <td>8/22/2023</td>\n",
       "      <td>NaN</td>\n",
       "    </tr>\n",
       "    <tr>\n",
       "      <th>1507</th>\n",
       "      <td>24:00:00</td>\n",
       "      <td>8/23/2023</td>\n",
       "      <td>NaN</td>\n",
       "    </tr>\n",
       "    <tr>\n",
       "      <th>1508</th>\n",
       "      <td>24:00:00</td>\n",
       "      <td>8/24/2023</td>\n",
       "      <td>NaN</td>\n",
       "    </tr>\n",
       "    <tr>\n",
       "      <th>1509</th>\n",
       "      <td>24:00:00</td>\n",
       "      <td>8/25/2023</td>\n",
       "      <td>NaN</td>\n",
       "    </tr>\n",
       "    <tr>\n",
       "      <th>1510</th>\n",
       "      <td>24:00:00</td>\n",
       "      <td>8/26/2023</td>\n",
       "      <td>NaN</td>\n",
       "    </tr>\n",
       "  </tbody>\n",
       "</table>\n",
       "<p>338 rows × 3 columns</p>\n",
       "</div>"
      ],
      "text/plain": [
       "     time_delta          date_added  weight\n",
       "8      24:00:00                 NaN     NaN\n",
       "24     24:00:00           8/22/2019     NaN\n",
       "25     24:00:00     8/23/2019 17:00     NaN\n",
       "31     24:00:00  8/29/2019 11:58 PM     NaN\n",
       "33     24:00:00   8/31/2019 4:20 PM     NaN\n",
       "...         ...                 ...     ...\n",
       "1506   24:00:00           8/22/2023     NaN\n",
       "1507   24:00:00           8/23/2023     NaN\n",
       "1508   24:00:00           8/24/2023     NaN\n",
       "1509   24:00:00           8/25/2023     NaN\n",
       "1510   24:00:00           8/26/2023     NaN\n",
       "\n",
       "[338 rows x 3 columns]"
      ]
     },
     "execution_count": 541,
     "metadata": {},
     "output_type": "execute_result"
    }
   ],
   "source": [
    "# Fasting data was calculated not always - 24.00 means there was no calculation \n",
    "count_24_hours = (df['time_delta'] == '24:00:00').sum()\n",
    "print(\"Count of '24:00:00' entries in time_delta column:\", count_24_hours)\n",
    "\n",
    "print ('********************************')\n",
    "\n",
    "df[df.time_delta == '24:00:00']"
   ]
  },
  {
   "cell_type": "code",
   "execution_count": 542,
   "metadata": {},
   "outputs": [
    {
     "data": {
      "text/html": [
       "<div>\n",
       "<style scoped>\n",
       "    .dataframe tbody tr th:only-of-type {\n",
       "        vertical-align: middle;\n",
       "    }\n",
       "\n",
       "    .dataframe tbody tr th {\n",
       "        vertical-align: top;\n",
       "    }\n",
       "\n",
       "    .dataframe thead th {\n",
       "        text-align: right;\n",
       "    }\n",
       "</style>\n",
       "<table border=\"1\" class=\"dataframe\">\n",
       "  <thead>\n",
       "    <tr style=\"text-align: right;\">\n",
       "      <th></th>\n",
       "      <th>time_delta</th>\n",
       "      <th>date_added</th>\n",
       "      <th>weight</th>\n",
       "    </tr>\n",
       "  </thead>\n",
       "  <tbody>\n",
       "  </tbody>\n",
       "</table>\n",
       "</div>"
      ],
      "text/plain": [
       "Empty DataFrame\n",
       "Columns: [time_delta, date_added, weight]\n",
       "Index: []"
      ]
     },
     "execution_count": 542,
     "metadata": {},
     "output_type": "execute_result"
    }
   ],
   "source": [
    "## replace 24:00 with 0\n",
    "df['time_delta'] = df['time_delta'].replace('24:00:00', '0')\n",
    "df[df.time_delta == '24:00:00']"
   ]
  },
  {
   "cell_type": "code",
   "execution_count": 543,
   "metadata": {},
   "outputs": [
    {
     "data": {
      "text/html": [
       "<div>\n",
       "<style scoped>\n",
       "    .dataframe tbody tr th:only-of-type {\n",
       "        vertical-align: middle;\n",
       "    }\n",
       "\n",
       "    .dataframe tbody tr th {\n",
       "        vertical-align: top;\n",
       "    }\n",
       "\n",
       "    .dataframe thead th {\n",
       "        text-align: right;\n",
       "    }\n",
       "</style>\n",
       "<table border=\"1\" class=\"dataframe\">\n",
       "  <thead>\n",
       "    <tr style=\"text-align: right;\">\n",
       "      <th></th>\n",
       "      <th>time_delta</th>\n",
       "      <th>date_added</th>\n",
       "      <th>weight</th>\n",
       "    </tr>\n",
       "  </thead>\n",
       "  <tbody>\n",
       "    <tr>\n",
       "      <th>51</th>\n",
       "      <td>17:10:00</td>\n",
       "      <td>9/18/2019 15:50</td>\n",
       "      <td>NaN</td>\n",
       "    </tr>\n",
       "    <tr>\n",
       "      <th>168</th>\n",
       "      <td>3:10:00</td>\n",
       "      <td>1/13/2020 11:10 PM</td>\n",
       "      <td>NaN</td>\n",
       "    </tr>\n",
       "    <tr>\n",
       "      <th>1470</th>\n",
       "      <td>0</td>\n",
       "      <td>7/17/2023</td>\n",
       "      <td>NaN</td>\n",
       "    </tr>\n",
       "    <tr>\n",
       "      <th>926</th>\n",
       "      <td>27:44:00</td>\n",
       "      <td>2/10/2022 9:31 PM</td>\n",
       "      <td>NaN</td>\n",
       "    </tr>\n",
       "    <tr>\n",
       "      <th>422</th>\n",
       "      <td>18:21:00</td>\n",
       "      <td>9/23/2020 11:19 PM</td>\n",
       "      <td>NaN</td>\n",
       "    </tr>\n",
       "    <tr>\n",
       "      <th>1090</th>\n",
       "      <td>15:31:00</td>\n",
       "      <td>7/11/2022 7:54 PM</td>\n",
       "      <td>NaN</td>\n",
       "    </tr>\n",
       "    <tr>\n",
       "      <th>585</th>\n",
       "      <td>17:56:00</td>\n",
       "      <td>3/5/2021 9:14 PM</td>\n",
       "      <td>NaN</td>\n",
       "    </tr>\n",
       "    <tr>\n",
       "      <th>220</th>\n",
       "      <td>19:30:00</td>\n",
       "      <td>3/5/2020 9:15 PM</td>\n",
       "      <td>NaN</td>\n",
       "    </tr>\n",
       "    <tr>\n",
       "      <th>1469</th>\n",
       "      <td>0</td>\n",
       "      <td>7/16/2023</td>\n",
       "      <td>NaN</td>\n",
       "    </tr>\n",
       "    <tr>\n",
       "      <th>1442</th>\n",
       "      <td>0</td>\n",
       "      <td>6/19/2023</td>\n",
       "      <td>NaN</td>\n",
       "    </tr>\n",
       "  </tbody>\n",
       "</table>\n",
       "</div>"
      ],
      "text/plain": [
       "     time_delta          date_added  weight\n",
       "51     17:10:00     9/18/2019 15:50     NaN\n",
       "168     3:10:00  1/13/2020 11:10 PM     NaN\n",
       "1470          0           7/17/2023     NaN\n",
       "926    27:44:00   2/10/2022 9:31 PM     NaN\n",
       "422    18:21:00  9/23/2020 11:19 PM     NaN\n",
       "1090   15:31:00   7/11/2022 7:54 PM     NaN\n",
       "585    17:56:00    3/5/2021 9:14 PM     NaN\n",
       "220    19:30:00    3/5/2020 9:15 PM     NaN\n",
       "1469          0           7/16/2023     NaN\n",
       "1442          0           6/19/2023     NaN"
      ]
     },
     "execution_count": 543,
     "metadata": {},
     "output_type": "execute_result"
    }
   ],
   "source": [
    "df.sample(n=10, random_state=42)"
   ]
  },
  {
   "cell_type": "code",
   "execution_count": 544,
   "metadata": {},
   "outputs": [
    {
     "data": {
      "text/plain": [
       "time_delta     108\n",
       "date_added      28\n",
       "weight        1424\n",
       "dtype: int64"
      ]
     },
     "execution_count": 544,
     "metadata": {},
     "output_type": "execute_result"
    }
   ],
   "source": [
    "df.isna().sum()"
   ]
  },
  {
   "cell_type": "code",
   "execution_count": 545,
   "metadata": {},
   "outputs": [
    {
     "data": {
      "text/plain": [
       "time_delta       0\n",
       "date_added      28\n",
       "weight        1424\n",
       "dtype: int64"
      ]
     },
     "execution_count": 545,
     "metadata": {},
     "output_type": "execute_result"
    }
   ],
   "source": [
    "# NaN values in time_delta cause trouble during export to POSTGRES\n",
    "df['time_delta'] = df['time_delta'].fillna(0)\n",
    "df.isna().sum()"
   ]
  },
  {
   "cell_type": "code",
   "execution_count": 546,
   "metadata": {},
   "outputs": [
    {
     "name": "stdout",
     "output_type": "stream",
     "text": [
      "Found single number value: 18\n",
      "Found single number value: 12\n",
      "Found single number value: 16\n",
      "Found single number value: 18\n",
      "Found single number value: 41\n"
     ]
    },
    {
     "data": {
      "text/plain": [
       "0      0 days 00:00:00\n",
       "1      0 days 00:00:00\n",
       "2      1 days 00:35:00\n",
       "3      0 days 00:00:00\n",
       "4      0 days 00:00:00\n",
       "             ...      \n",
       "1512   0 days 00:00:00\n",
       "1513   0 days 00:00:00\n",
       "1514   0 days 00:00:00\n",
       "1515   0 days 00:00:00\n",
       "1516   0 days 00:00:00\n",
       "Name: time_delta, Length: 1515, dtype: timedelta64[ns]"
      ]
     },
     "execution_count": 546,
     "metadata": {},
     "output_type": "execute_result"
    }
   ],
   "source": [
    "############# Main Conversion of [time_delta]\n",
    "\n",
    "def convert_to_timedelta(value):\n",
    "    if isinstance(value, str) and ':' in value:\n",
    "        return pd.to_timedelta(value)\n",
    "    elif isinstance(value, str) and value.isdigit():\n",
    "        if value != '0':\n",
    "            print(f\"Found single number value: {value}\")\n",
    "        return pd.to_timedelta(f\"{int(value)} hours\")\n",
    "    else:\n",
    "        return pd.to_timedelta(value)\n",
    "\n",
    "df['time_delta'].apply(convert_to_timedelta)\n"
   ]
  },
  {
   "cell_type": "code",
   "execution_count": 547,
   "metadata": {},
   "outputs": [
    {
     "name": "stdout",
     "output_type": "stream",
     "text": [
      "Rows with specified values:\n",
      "    time_delta          date_added  weight\n",
      "345         18    7/8/2020 9:56 PM     NaN\n",
      "348         12  7/11/2020 11:00 PM     NaN\n",
      "620         16    4/9/2021 9:28 PM     NaN\n",
      "728         18   7/26/2021 7:58 PM     NaN\n",
      "882         41  12/27/2021 5:49 PM     NaN\n",
      "*********************\n",
      "Empty DataFrame\n",
      "Columns: [time_delta, date_added, weight]\n",
      "Index: []\n"
     ]
    }
   ],
   "source": [
    "#### Drop these two digit values\n",
    "#### We don't know if they are hours or minutes\n",
    "\n",
    "# Define the values to be filtered\n",
    "values_to_filter = [\"18\", \"12\", \"16\", \"41\"]\n",
    "\n",
    "# Filter and print the rows where 'time_delta' contains any of the specified values\n",
    "filtered_rows = df[df['time_delta'].isin(values_to_filter)]\n",
    "print(\"Rows with specified values:\")\n",
    "print(filtered_rows)\n",
    "\n",
    "# Drop the filtered rows from the DataFrame\n",
    "df = df[~df['time_delta'].isin(values_to_filter)]\n",
    "print ('*********************')\n",
    "\n",
    "print (df[df['date_added'].str.contains('/11/2020 11:00 PM', na=False)] )"
   ]
  },
  {
   "cell_type": "code",
   "execution_count": 548,
   "metadata": {},
   "outputs": [],
   "source": [
    "df['time_delta'] = df['time_delta'].apply(convert_to_timedelta)"
   ]
  },
  {
   "cell_type": "code",
   "execution_count": 549,
   "metadata": {},
   "outputs": [],
   "source": [
    "## [time_delta] needs to be in seconds else error duirng export\n",
    "df['time_delta'] = df['time_delta'].dt.total_seconds().astype(\"Int64\")"
   ]
  },
  {
   "cell_type": "markdown",
   "metadata": {},
   "source": [
    "### Handling & Conversion of ['date_added'] column"
   ]
  },
  {
   "cell_type": "code",
   "execution_count": 550,
   "metadata": {},
   "outputs": [
    {
     "name": "stdout",
     "output_type": "stream",
     "text": [
      "      time_delta          date_added  weight\n",
      "490  -3815784660  11/30/2020 7:32 PM     NaN\n",
      "********************************\n",
      "Empty DataFrame\n",
      "Columns: [time_delta, date_added, weight]\n",
      "Index: []\n"
     ]
    }
   ],
   "source": [
    "print (df[df['date_added'].str.contains('11/30/2020', na=False)] )\n",
    "\n",
    "print ('********************************')\n",
    "\n",
    "## Get Rid of that row\n",
    "df = df[~df['date_added'].str.contains(\"11/30/2020\", na=False)]\n",
    "\n",
    "print (df[df['date_added'].str.contains('11/30/2020', na=False)] )"
   ]
  },
  {
   "cell_type": "code",
   "execution_count": 551,
   "metadata": {},
   "outputs": [
    {
     "name": "stdout",
     "output_type": "stream",
     "text": [
      "     time_delta                 date_added  weight\n",
      "581       56880  3/1/2021 17:36:00 10:01pm     NaN\n",
      "********************************\n",
      "     time_delta         date_added  weight\n",
      "581       56880  3/1/2021 17:36:00     NaN\n"
     ]
    }
   ],
   "source": [
    "# Dirty Manual Data Input  - 10:01pm - pm needs space\n",
    "\n",
    "print (df[df['date_added'].str.contains('pm', na=False)] )\n",
    "\n",
    "\n",
    "print ('********************************')\n",
    "\n",
    "df['date_added'] = df['date_added'].replace('3/1/2021 17:36:00 10:01pm', '3/1/2021 17:36:00')\n",
    "\n",
    "print (df[df['date_added'].str.contains('17:36:00', na=False)] )\n",
    "\n"
   ]
  },
  {
   "cell_type": "code",
   "execution_count": 552,
   "metadata": {},
   "outputs": [
    {
     "name": "stdout",
     "output_type": "stream",
     "text": [
      "     time_delta       date_added  weight\n",
      "795       66420  10/1/2021 23.56    80.5\n",
      "*******************************\n",
      "     time_delta       date_added  weight\n",
      "795       66420  10/1/2021 23.56    80.5\n",
      "*******************************\n",
      "     time_delta       date_added  weight\n",
      "795       66420  10/1/2021 23:56    80.5\n"
     ]
    }
   ],
   "source": [
    "## dirty input in google sheets time is 23.56\n",
    "\n",
    "print (df[df['date_added'].str.contains('23.56', na=False)] )\n",
    "\n",
    "print ('*******************************')\n",
    "\n",
    "# Find all lines with time and minutes separated by .\n",
    "pattern = r\".*\\..*\"\n",
    "matched_rows = df[df['date_added'].str.contains(pattern, na=False)]\n",
    "print(matched_rows)\n",
    "\n",
    "print ('*******************************')\n",
    "\n",
    "df['date_added'] = df['date_added'].replace('10/1/2021 23.56', '10/1/2021 23:56')\n",
    "\n",
    "print (df[df['date_added'].str.contains('23:56', na=False)] )\n",
    "\n"
   ]
  },
  {
   "cell_type": "code",
   "execution_count": 553,
   "metadata": {},
   "outputs": [
    {
     "name": "stdout",
     "output_type": "stream",
     "text": [
      "      time_delta date_added  weight\n",
      "2          88500        NaN     NaN\n",
      "3              0        NaN     NaN\n",
      "8              0        NaN     NaN\n",
      "993            0        NaN     NaN\n",
      "1001           0        NaN     NaN\n",
      "1009           0        NaN     NaN\n",
      "1017           0        NaN     NaN\n",
      "1025           0        NaN     NaN\n",
      "1033           0        NaN     NaN\n",
      "1041           0        NaN     NaN\n",
      "1049           0        NaN     NaN\n",
      "1057           0        NaN     NaN\n",
      "1065           0        NaN     NaN\n",
      "1073           0        NaN     NaN\n",
      "1081           0        NaN     NaN\n",
      "1089           0        NaN     NaN\n",
      "1097           0        NaN     NaN\n",
      "1105           0        NaN     NaN\n",
      "1113           0        NaN     NaN\n",
      "1121           0        NaN     NaN\n",
      "1129           0        NaN     NaN\n",
      "1200           0        NaN     NaN\n",
      "1208           0        NaN     NaN\n",
      "1216           0        NaN     NaN\n",
      "1224           0        NaN     NaN\n",
      "1511           0        NaN     NaN\n",
      "1512           0        NaN     NaN\n",
      "1514           0        NaN     NaN\n",
      "*******************************\n",
      "28\n"
     ]
    }
   ],
   "source": [
    "## date_added NaN causes date_added to be assigned to a current date (2024)\n",
    "\n",
    "print (df[df['date_added'].isna()] )\n",
    "\n",
    "print ('*******************************')\n",
    "\n",
    "print (df['date_added'].isna().sum() )"
   ]
  },
  {
   "cell_type": "code",
   "execution_count": 554,
   "metadata": {},
   "outputs": [
    {
     "data": {
      "text/plain": [
       "(1509, 3)"
      ]
     },
     "execution_count": 554,
     "metadata": {},
     "output_type": "execute_result"
    }
   ],
   "source": [
    "df.shape"
   ]
  },
  {
   "cell_type": "code",
   "execution_count": 555,
   "metadata": {},
   "outputs": [],
   "source": [
    "df = df.dropna(subset=['date_added'])"
   ]
  },
  {
   "cell_type": "code",
   "execution_count": 556,
   "metadata": {},
   "outputs": [
    {
     "data": {
      "text/plain": [
       "(1481, 3)"
      ]
     },
     "execution_count": 556,
     "metadata": {},
     "output_type": "execute_result"
    }
   ],
   "source": [
    "df.shape"
   ]
  },
  {
   "cell_type": "code",
   "execution_count": 557,
   "metadata": {},
   "outputs": [],
   "source": [
    "###################### Main Conversion \n",
    "# Define a mask to filter rows with the specified format ( 01/01/2022 12:34:56 )\n",
    "mask = df['date_added'].str.match(r'\\d{1,2}/\\d{1,2}/\\d{4} \\d{1,2}:\\d{2}:\\d{2}')\n",
    "\n",
    "# Convert only the rows that match the specified format\n",
    "df.loc[mask, 'date_added'] = pd.to_datetime(df.loc[mask, 'date_added'], errors='coerce', format='%m/%d/%Y %H:%M:%S')\n",
    "\n",
    "# Convert the remaining date strings to datetime - e.g. 9/14/2019 4:00 PM\n",
    "df['date_added'] = pd.to_datetime(df['date_added'], errors='coerce')\n",
    "\n",
    "# Format the datetime values as required for PostgreSQL\n",
    "df['date_added'] = df['date_added'].dt.strftime('%Y-%m-%d %H:%M:%S')\n"
   ]
  },
  {
   "cell_type": "markdown",
   "metadata": {},
   "source": [
    "#### Handling of ['weight] column"
   ]
  },
  {
   "cell_type": "code",
   "execution_count": 558,
   "metadata": {},
   "outputs": [],
   "source": [
    "# Replace NaN values with None for weight column\n",
    "df['weight'] = df['weight'].where(~df['weight'].isna(), None)"
   ]
  },
  {
   "cell_type": "code",
   "execution_count": 559,
   "metadata": {},
   "outputs": [
    {
     "data": {
      "text/html": [
       "<div>\n",
       "<style scoped>\n",
       "    .dataframe tbody tr th:only-of-type {\n",
       "        vertical-align: middle;\n",
       "    }\n",
       "\n",
       "    .dataframe tbody tr th {\n",
       "        vertical-align: top;\n",
       "    }\n",
       "\n",
       "    .dataframe thead th {\n",
       "        text-align: right;\n",
       "    }\n",
       "</style>\n",
       "<table border=\"1\" class=\"dataframe\">\n",
       "  <thead>\n",
       "    <tr style=\"text-align: right;\">\n",
       "      <th></th>\n",
       "      <th>time_delta</th>\n",
       "      <th>date_added</th>\n",
       "      <th>weight</th>\n",
       "    </tr>\n",
       "  </thead>\n",
       "  <tbody>\n",
       "    <tr>\n",
       "      <th>0</th>\n",
       "      <td>0</td>\n",
       "      <td>2019-07-30 20:25:00</td>\n",
       "      <td>77.0</td>\n",
       "    </tr>\n",
       "    <tr>\n",
       "      <th>1</th>\n",
       "      <td>0</td>\n",
       "      <td>2019-07-30 20:25:00</td>\n",
       "      <td>NaN</td>\n",
       "    </tr>\n",
       "    <tr>\n",
       "      <th>4</th>\n",
       "      <td>0</td>\n",
       "      <td>2019-02-08 21:25:00</td>\n",
       "      <td>NaN</td>\n",
       "    </tr>\n",
       "    <tr>\n",
       "      <th>5</th>\n",
       "      <td>0</td>\n",
       "      <td>2019-03-08 15:45:00</td>\n",
       "      <td>NaN</td>\n",
       "    </tr>\n",
       "    <tr>\n",
       "      <th>6</th>\n",
       "      <td>0</td>\n",
       "      <td>2019-04-08 22:20:00</td>\n",
       "      <td>NaN</td>\n",
       "    </tr>\n",
       "  </tbody>\n",
       "</table>\n",
       "</div>"
      ],
      "text/plain": [
       "   time_delta           date_added  weight\n",
       "0           0  2019-07-30 20:25:00    77.0\n",
       "1           0  2019-07-30 20:25:00     NaN\n",
       "4           0  2019-02-08 21:25:00     NaN\n",
       "5           0  2019-03-08 15:45:00     NaN\n",
       "6           0  2019-04-08 22:20:00     NaN"
      ]
     },
     "execution_count": 559,
     "metadata": {},
     "output_type": "execute_result"
    }
   ],
   "source": [
    "df.head()"
   ]
  },
  {
   "cell_type": "code",
   "execution_count": 560,
   "metadata": {},
   "outputs": [
    {
     "data": {
      "text/html": [
       "<div>\n",
       "<style scoped>\n",
       "    .dataframe tbody tr th:only-of-type {\n",
       "        vertical-align: middle;\n",
       "    }\n",
       "\n",
       "    .dataframe tbody tr th {\n",
       "        vertical-align: top;\n",
       "    }\n",
       "\n",
       "    .dataframe thead th {\n",
       "        text-align: right;\n",
       "    }\n",
       "</style>\n",
       "<table border=\"1\" class=\"dataframe\">\n",
       "  <thead>\n",
       "    <tr style=\"text-align: right;\">\n",
       "      <th></th>\n",
       "      <th>time_delta</th>\n",
       "      <th>date_added</th>\n",
       "      <th>weight</th>\n",
       "    </tr>\n",
       "  </thead>\n",
       "  <tbody>\n",
       "    <tr>\n",
       "      <th>1509</th>\n",
       "      <td>0</td>\n",
       "      <td>2023-08-25 00:00:00</td>\n",
       "      <td>NaN</td>\n",
       "    </tr>\n",
       "    <tr>\n",
       "      <th>1510</th>\n",
       "      <td>0</td>\n",
       "      <td>2023-08-26 00:00:00</td>\n",
       "      <td>NaN</td>\n",
       "    </tr>\n",
       "    <tr>\n",
       "      <th>1513</th>\n",
       "      <td>0</td>\n",
       "      <td>2023-10-20 00:00:00</td>\n",
       "      <td>78.50</td>\n",
       "    </tr>\n",
       "    <tr>\n",
       "      <th>1515</th>\n",
       "      <td>0</td>\n",
       "      <td>2023-10-25 00:00:00</td>\n",
       "      <td>78.85</td>\n",
       "    </tr>\n",
       "    <tr>\n",
       "      <th>1516</th>\n",
       "      <td>0</td>\n",
       "      <td>2023-10-31 00:00:00</td>\n",
       "      <td>79.80</td>\n",
       "    </tr>\n",
       "  </tbody>\n",
       "</table>\n",
       "</div>"
      ],
      "text/plain": [
       "      time_delta           date_added  weight\n",
       "1509           0  2023-08-25 00:00:00     NaN\n",
       "1510           0  2023-08-26 00:00:00     NaN\n",
       "1513           0  2023-10-20 00:00:00   78.50\n",
       "1515           0  2023-10-25 00:00:00   78.85\n",
       "1516           0  2023-10-31 00:00:00   79.80"
      ]
     },
     "execution_count": 560,
     "metadata": {},
     "output_type": "execute_result"
    }
   ],
   "source": [
    "df.tail()"
   ]
  },
  {
   "cell_type": "code",
   "execution_count": 561,
   "metadata": {},
   "outputs": [
    {
     "name": "stdout",
     "output_type": "stream",
     "text": [
      "<class 'pandas.core.frame.DataFrame'>\n",
      "Index: 1481 entries, 0 to 1516\n",
      "Data columns (total 3 columns):\n",
      " #   Column      Non-Null Count  Dtype  \n",
      "---  ------      --------------  -----  \n",
      " 0   time_delta  1481 non-null   Int64  \n",
      " 1   date_added  1481 non-null   object \n",
      " 2   weight      91 non-null     float64\n",
      "dtypes: Int64(1), float64(1), object(1)\n",
      "memory usage: 47.7+ KB\n"
     ]
    }
   ],
   "source": [
    "df.info()"
   ]
  },
  {
   "cell_type": "code",
   "execution_count": 562,
   "metadata": {},
   "outputs": [
    {
     "data": {
      "text/html": [
       "<div>\n",
       "<style scoped>\n",
       "    .dataframe tbody tr th:only-of-type {\n",
       "        vertical-align: middle;\n",
       "    }\n",
       "\n",
       "    .dataframe tbody tr th {\n",
       "        vertical-align: top;\n",
       "    }\n",
       "\n",
       "    .dataframe thead th {\n",
       "        text-align: right;\n",
       "    }\n",
       "</style>\n",
       "<table border=\"1\" class=\"dataframe\">\n",
       "  <thead>\n",
       "    <tr style=\"text-align: right;\">\n",
       "      <th></th>\n",
       "      <th>time_delta</th>\n",
       "      <th>date_added</th>\n",
       "      <th>weight</th>\n",
       "    </tr>\n",
       "  </thead>\n",
       "  <tbody>\n",
       "    <tr>\n",
       "      <th>1</th>\n",
       "      <td>0</td>\n",
       "      <td>2019-07-30 20:25:00</td>\n",
       "      <td>NaN</td>\n",
       "    </tr>\n",
       "    <tr>\n",
       "      <th>4</th>\n",
       "      <td>0</td>\n",
       "      <td>2019-02-08 21:25:00</td>\n",
       "      <td>NaN</td>\n",
       "    </tr>\n",
       "    <tr>\n",
       "      <th>5</th>\n",
       "      <td>0</td>\n",
       "      <td>2019-03-08 15:45:00</td>\n",
       "      <td>NaN</td>\n",
       "    </tr>\n",
       "    <tr>\n",
       "      <th>6</th>\n",
       "      <td>0</td>\n",
       "      <td>2019-04-08 22:20:00</td>\n",
       "      <td>NaN</td>\n",
       "    </tr>\n",
       "    <tr>\n",
       "      <th>7</th>\n",
       "      <td>0</td>\n",
       "      <td>2019-05-08 14:15:00</td>\n",
       "      <td>NaN</td>\n",
       "    </tr>\n",
       "    <tr>\n",
       "      <th>...</th>\n",
       "      <td>...</td>\n",
       "      <td>...</td>\n",
       "      <td>...</td>\n",
       "    </tr>\n",
       "    <tr>\n",
       "      <th>1506</th>\n",
       "      <td>0</td>\n",
       "      <td>2023-08-22 00:00:00</td>\n",
       "      <td>NaN</td>\n",
       "    </tr>\n",
       "    <tr>\n",
       "      <th>1507</th>\n",
       "      <td>0</td>\n",
       "      <td>2023-08-23 00:00:00</td>\n",
       "      <td>NaN</td>\n",
       "    </tr>\n",
       "    <tr>\n",
       "      <th>1508</th>\n",
       "      <td>0</td>\n",
       "      <td>2023-08-24 00:00:00</td>\n",
       "      <td>NaN</td>\n",
       "    </tr>\n",
       "    <tr>\n",
       "      <th>1509</th>\n",
       "      <td>0</td>\n",
       "      <td>2023-08-25 00:00:00</td>\n",
       "      <td>NaN</td>\n",
       "    </tr>\n",
       "    <tr>\n",
       "      <th>1510</th>\n",
       "      <td>0</td>\n",
       "      <td>2023-08-26 00:00:00</td>\n",
       "      <td>NaN</td>\n",
       "    </tr>\n",
       "  </tbody>\n",
       "</table>\n",
       "<p>388 rows × 3 columns</p>\n",
       "</div>"
      ],
      "text/plain": [
       "      time_delta           date_added  weight\n",
       "1              0  2019-07-30 20:25:00     NaN\n",
       "4              0  2019-02-08 21:25:00     NaN\n",
       "5              0  2019-03-08 15:45:00     NaN\n",
       "6              0  2019-04-08 22:20:00     NaN\n",
       "7              0  2019-05-08 14:15:00     NaN\n",
       "...          ...                  ...     ...\n",
       "1506           0  2023-08-22 00:00:00     NaN\n",
       "1507           0  2023-08-23 00:00:00     NaN\n",
       "1508           0  2023-08-24 00:00:00     NaN\n",
       "1509           0  2023-08-25 00:00:00     NaN\n",
       "1510           0  2023-08-26 00:00:00     NaN\n",
       "\n",
       "[388 rows x 3 columns]"
      ]
     },
     "execution_count": 562,
     "metadata": {},
     "output_type": "execute_result"
    }
   ],
   "source": [
    "### Filter for time_delta 0 and Weight NaN\n",
    "df[(df['time_delta'].isin([0])) & (df['weight'].isna())]\n"
   ]
  },
  {
   "cell_type": "code",
   "execution_count": 563,
   "metadata": {},
   "outputs": [
    {
     "data": {
      "text/plain": [
       "(1481, 3)"
      ]
     },
     "execution_count": 563,
     "metadata": {},
     "output_type": "execute_result"
    }
   ],
   "source": [
    "df.shape"
   ]
  },
  {
   "cell_type": "code",
   "execution_count": 564,
   "metadata": {},
   "outputs": [],
   "source": [
    "rows_to_remove = df[(df['time_delta'].isin([0])) & (df['weight'].isna())]\n",
    "df = df.drop(rows_to_remove.index)"
   ]
  },
  {
   "cell_type": "code",
   "execution_count": 565,
   "metadata": {},
   "outputs": [
    {
     "data": {
      "text/plain": [
       "(1093, 3)"
      ]
     },
     "execution_count": 565,
     "metadata": {},
     "output_type": "execute_result"
    }
   ],
   "source": [
    "df.shape"
   ]
  },
  {
   "cell_type": "code",
   "execution_count": 566,
   "metadata": {},
   "outputs": [
    {
     "data": {
      "text/html": [
       "<div>\n",
       "<style scoped>\n",
       "    .dataframe tbody tr th:only-of-type {\n",
       "        vertical-align: middle;\n",
       "    }\n",
       "\n",
       "    .dataframe tbody tr th {\n",
       "        vertical-align: top;\n",
       "    }\n",
       "\n",
       "    .dataframe thead th {\n",
       "        text-align: right;\n",
       "    }\n",
       "</style>\n",
       "<table border=\"1\" class=\"dataframe\">\n",
       "  <thead>\n",
       "    <tr style=\"text-align: right;\">\n",
       "      <th></th>\n",
       "      <th>time_delta</th>\n",
       "      <th>date_added</th>\n",
       "      <th>weight</th>\n",
       "    </tr>\n",
       "  </thead>\n",
       "  <tbody>\n",
       "    <tr>\n",
       "      <th>0</th>\n",
       "      <td>0</td>\n",
       "      <td>2019-07-30 20:25:00</td>\n",
       "      <td>77.00</td>\n",
       "    </tr>\n",
       "    <tr>\n",
       "      <th>10</th>\n",
       "      <td>61620</td>\n",
       "      <td>2019-08-08 00:00:00</td>\n",
       "      <td>77.40</td>\n",
       "    </tr>\n",
       "    <tr>\n",
       "      <th>13</th>\n",
       "      <td>46800</td>\n",
       "      <td>2019-08-11 02:10:00</td>\n",
       "      <td>NaN</td>\n",
       "    </tr>\n",
       "    <tr>\n",
       "      <th>14</th>\n",
       "      <td>78600</td>\n",
       "      <td>2019-08-12 10:00:00</td>\n",
       "      <td>NaN</td>\n",
       "    </tr>\n",
       "    <tr>\n",
       "      <th>15</th>\n",
       "      <td>50400</td>\n",
       "      <td>2019-08-13 12:36:00</td>\n",
       "      <td>NaN</td>\n",
       "    </tr>\n",
       "    <tr>\n",
       "      <th>...</th>\n",
       "      <td>...</td>\n",
       "      <td>...</td>\n",
       "      <td>...</td>\n",
       "    </tr>\n",
       "    <tr>\n",
       "      <th>1461</th>\n",
       "      <td>0</td>\n",
       "      <td>2023-07-08 00:00:00</td>\n",
       "      <td>78.27</td>\n",
       "    </tr>\n",
       "    <tr>\n",
       "      <th>1479</th>\n",
       "      <td>0</td>\n",
       "      <td>2023-07-26 00:00:00</td>\n",
       "      <td>78.56</td>\n",
       "    </tr>\n",
       "    <tr>\n",
       "      <th>1513</th>\n",
       "      <td>0</td>\n",
       "      <td>2023-10-20 00:00:00</td>\n",
       "      <td>78.50</td>\n",
       "    </tr>\n",
       "    <tr>\n",
       "      <th>1515</th>\n",
       "      <td>0</td>\n",
       "      <td>2023-10-25 00:00:00</td>\n",
       "      <td>78.85</td>\n",
       "    </tr>\n",
       "    <tr>\n",
       "      <th>1516</th>\n",
       "      <td>0</td>\n",
       "      <td>2023-10-31 00:00:00</td>\n",
       "      <td>79.80</td>\n",
       "    </tr>\n",
       "  </tbody>\n",
       "</table>\n",
       "<p>1093 rows × 3 columns</p>\n",
       "</div>"
      ],
      "text/plain": [
       "      time_delta           date_added  weight\n",
       "0              0  2019-07-30 20:25:00   77.00\n",
       "10         61620  2019-08-08 00:00:00   77.40\n",
       "13         46800  2019-08-11 02:10:00     NaN\n",
       "14         78600  2019-08-12 10:00:00     NaN\n",
       "15         50400  2019-08-13 12:36:00     NaN\n",
       "...          ...                  ...     ...\n",
       "1461           0  2023-07-08 00:00:00   78.27\n",
       "1479           0  2023-07-26 00:00:00   78.56\n",
       "1513           0  2023-10-20 00:00:00   78.50\n",
       "1515           0  2023-10-25 00:00:00   78.85\n",
       "1516           0  2023-10-31 00:00:00   79.80\n",
       "\n",
       "[1093 rows x 3 columns]"
      ]
     },
     "execution_count": 566,
     "metadata": {},
     "output_type": "execute_result"
    }
   ],
   "source": [
    "df"
   ]
  },
  {
   "cell_type": "markdown",
   "metadata": {},
   "source": [
    "### Export Data"
   ]
  },
  {
   "cell_type": "code",
   "execution_count": 567,
   "metadata": {},
   "outputs": [
    {
     "name": "stdout",
     "output_type": "stream",
     "text": [
      "Connection successful!\n"
     ]
    }
   ],
   "source": [
    "############# We just check connection with DB here \n",
    "\n",
    "import os\n",
    "from dotenv import load_dotenv\n",
    "from sqlalchemy import create_engine\n",
    "\n",
    "load_dotenv()  # Load environment variables from .env file\n",
    "\n",
    "DATABASE_URL = os.environ.get('DATABASE_URL')\n",
    "engine = create_engine(DATABASE_URL)\n",
    "\n",
    "# Check if the connection is valid\n",
    "if engine.connect():\n",
    "    print(\"Connection successful!\")\n",
    "else:\n",
    "    print(\"Connection failed!\")\n",
    "\n",
    "from sqlalchemy import text\n",
    "\n",
    "# Establish a connection\n",
    "with engine.connect() as connection:\n",
    "    query = text(\"SELECT * FROM eat LIMIT 3\")\n",
    "    results = connection.execute(query).fetchall()\n",
    "\n",
    "for row in results:\n",
    "    print(row)"
   ]
  },
  {
   "cell_type": "code",
   "execution_count": 568,
   "metadata": {},
   "outputs": [],
   "source": [
    "from sqlalchemy import create_engine\n",
    "from sqlalchemy.orm import sessionmaker\n",
    "from app.models import eat  # Import your eat model\n",
    "from datetime import datetime, timedelta\n",
    "\n",
    "import pandas as pd\n",
    "import os\n",
    "from dotenv import load_dotenv\n",
    "\n",
    "load_dotenv()  # Load environment variables from .env file\n",
    "\n",
    "DATABASE_URL = os.environ.get('DATABASE_URL')\n",
    "engine = create_engine(DATABASE_URL)\n",
    "\n",
    "Session = sessionmaker(bind=engine)\n",
    "session = Session()\n",
    "\n",
    "for index, row in df.iterrows():\n",
    "    # Convert 'time_delta' to a valid interval value (0 seconds)\n",
    "    time_delta = timedelta(seconds=int(row['time_delta']))\n",
    "    \n",
    "    # Convert 'date_added' to a valid timestamp\n",
    "    date_added = None\n",
    "    if pd.notna(row['date_added']):\n",
    "        date_added = datetime.strptime(row['date_added'], '%Y-%m-%d %H:%M:%S')\n",
    "    \n",
    "    # Export the row to the eat table\n",
    "    eat_instance = eat(\n",
    "        meal=None,  # Adjust as needed\n",
    "        comment=None,  # Adjust as needed\n",
    "        time_delta=time_delta,\n",
    "        date_added=date_added,\n",
    "        weight=row['weight']\n",
    "    )\n",
    "    session.add(eat_instance)\n",
    "\n",
    "# Commit changes to the database\n",
    "session.commit()\n"
   ]
  },
  {
   "cell_type": "code",
   "execution_count": 569,
   "metadata": {},
   "outputs": [
    {
     "data": {
      "text/plain": [
       "(1093, 3)"
      ]
     },
     "execution_count": 569,
     "metadata": {},
     "output_type": "execute_result"
    }
   ],
   "source": [
    "df.shape"
   ]
  },
  {
   "cell_type": "code",
   "execution_count": 4,
   "metadata": {},
   "outputs": [
    {
     "name": "stdout",
     "output_type": "stream",
     "text": [
      "Current working directory: /home/turo/projects/life_quantifed\n"
     ]
    }
   ],
   "source": [
    "import os\n",
    "\n",
    "# Get the current working directory\n",
    "current_working_directory = os.getcwd()\n",
    "\n",
    "# Print the current working directory\n",
    "print(f\"Current working directory: {current_working_directory}\")\n"
   ]
  },
  {
   "cell_type": "code",
   "execution_count": 5,
   "metadata": {},
   "outputs": [],
   "source": [
    "df.to_csv('data/cleaned_data.csv', index=False)\n"
   ]
  }
 ],
 "metadata": {
  "kernelspec": {
   "display_name": "venv",
   "language": "python",
   "name": "python3"
  },
  "language_info": {
   "codemirror_mode": {
    "name": "ipython",
    "version": 3
   },
   "file_extension": ".py",
   "mimetype": "text/x-python",
   "name": "python",
   "nbconvert_exporter": "python",
   "pygments_lexer": "ipython3",
   "version": "3.10.12"
  }
 },
 "nbformat": 4,
 "nbformat_minor": 2
}
